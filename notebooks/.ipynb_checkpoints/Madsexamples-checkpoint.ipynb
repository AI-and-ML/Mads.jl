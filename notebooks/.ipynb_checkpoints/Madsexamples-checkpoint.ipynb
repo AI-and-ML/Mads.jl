{
 "cells": [
  {
   "cell_type": "markdown",
   "metadata": {
    "collapsed": false
   },
   "source": [
    "# Runnung Mads"
   ]
  },
  {
   "cell_type": "code",
   "execution_count": 2,
   "metadata": {
    "collapsed": false,
    "scrolled": true
   },
   "outputs": [],
   "source": [
    "reload(\"Mads\") # to make sure that the latest version is uploaded"
   ]
  },
  {
   "cell_type": "code",
   "execution_count": 4,
   "metadata": {
    "collapsed": false
   },
   "outputs": [],
   "source": [
    "cd(joinpath(Pkg.dir(\"Mads\"), \"examples\", \"contamination\"))"
   ]
  },
  {
   "cell_type": "code",
   "execution_count": 5,
   "metadata": {
    "collapsed": false
   },
   "outputs": [
    {
     "name": "stdout",
     "output_type": "stream",
     "text": [
      "w13a_1     target =               0 weight =               1\n",
      "w13a_2     target =               0 weight =               1\n",
      "w13a_3     target =               0 weight =               1\n",
      "w13a_4     target =               0 weight =               1\n",
      "w13a_5     target =               0 weight =               1\n",
      "w13a_6     target =     2.75877e-16 weight =               1\n",
      "w13a_7     target =     2.27102e-06 weight =               1\n",
      "w13a_8     target =      0.00466548 weight =               1\n",
      "w13a_9     target =        0.209927 weight =               1\n",
      "w13a_10    target =         2.03463 weight =               1\n",
      "w13a_11    target =         9.12646 weight =               1\n",
      "w13a_12    target =         26.3249 weight =               1\n",
      "w13a_13    target =         57.5895 weight =               1\n",
      "w13a_14    target =         104.755 weight =               1\n",
      "w13a_15    target =         167.453 weight =               1\n",
      "w13a_16    target =         243.691 weight =               1\n",
      "w13a_17    target =         330.577 weight =               1\n",
      "w13a_18    target =         424.915 weight =               1\n",
      "w13a_19    target =         523.438 weight =               1\n",
      "w13a_20    target =         622.009 weight =               1\n",
      "w13a_21    target =         714.721 weight =               1\n",
      "w13a_22    target =         794.955 weight =               1\n",
      "w13a_23    target =         857.421 weight =               1\n",
      "w13a_24    target =         899.345 weight =               1\n",
      "w13a_25    target =         920.488 weight =               1\n",
      "w13a_26    target =         922.499 weight =               1\n",
      "w13a_27    target =         908.138 weight =               1\n",
      "w13a_28    target =         880.622 weight =               1\n",
      "w13a_29    target =         843.161 weight =               1\n",
      "w13a_30    target =         798.699 weight =               1\n",
      "w13a_31    target =         749.771 weight =               1\n",
      "w13a_32    target =         698.468 weight =               1\n",
      "w13a_33    target =         646.451 weight =               1\n",
      "w13a_34    target =          594.99 weight =               1\n",
      "w13a_35    target =         545.025 weight =               1\n",
      "w13a_36    target =         497.216 weight =               1\n",
      "w13a_37    target =         452.002 weight =               1\n",
      "w13a_38    target =         409.646 weight =               1\n",
      "w13a_39    target =         370.275 weight =               1\n",
      "w13a_40    target =         333.917 weight =               1\n",
      "w13a_41    target =         300.523 weight =               1\n",
      "w13a_42    target =         269.992 weight =               1\n",
      "w13a_43    target =         242.188 weight =               1\n",
      "w13a_44    target =         216.954 weight =               1\n",
      "w13a_45    target =         194.117 weight =               1\n",
      "w13a_46    target =         173.501 weight =               1\n",
      "w13a_47    target =         154.932 weight =               1\n",
      "w13a_48    target =         138.237 weight =               1\n",
      "w13a_49    target =         123.252 weight =               1\n",
      "w13a_50    target =         109.821 weight =               1\n",
      "w20a_1     target =               0 weight =               1\n",
      "w20a_2     target =               0 weight =               1\n",
      "w20a_3     target =               0 weight =               1\n",
      "w20a_4     target =               0 weight =               1\n",
      "w20a_5     target =               0 weight =               1\n",
      "w20a_6     target =     5.78784e-60 weight =               1\n",
      "w20a_7     target =     1.10909e-27 weight =               1\n",
      "w20a_8     target =     6.49962e-17 weight =               1\n",
      "w20a_9     target =     1.55827e-11 weight =               1\n",
      "w20a_10    target =     2.59224e-08 weight =               1\n",
      "w20a_11    target =     3.57893e-06 weight =               1\n",
      "w20a_12    target =     0.000118935 weight =               1\n",
      "w20a_13    target =      0.00162116 weight =               1\n",
      "w20a_14    target =       0.0121911 weight =               1\n",
      "w20a_15    target =       0.0604357 weight =               1\n",
      "w20a_16    target =        0.221228 weight =               1\n",
      "w20a_17    target =        0.645007 weight =               1\n",
      "w20a_18    target =         1.57853 weight =               1\n",
      "w20a_19    target =         3.36667 weight =               1\n",
      "w20a_20    target =         6.43234 weight =               1\n",
      "w20a_21    target =         11.2394 weight =               1\n",
      "w20a_22    target =         18.2471 weight =               1\n",
      "w20a_23    target =          27.865 weight =               1\n",
      "w20a_24    target =          40.412 weight =               1\n",
      "w20a_25    target =         56.0774 weight =               1\n",
      "w20a_26    target =         74.8848 weight =               1\n",
      "w20a_27    target =         96.6635 weight =               1\n",
      "w20a_28    target =         121.037 weight =               1\n",
      "w20a_29    target =         147.437 weight =               1\n",
      "w20a_30    target =         175.143 weight =               1\n",
      "w20a_31    target =          203.34 weight =               1\n",
      "w20a_32    target =         231.184 weight =               1\n",
      "w20a_33    target =         257.862 weight =               1\n",
      "w20a_34    target =         282.648 weight =               1\n",
      "w20a_35    target =         304.933 weight =               1\n",
      "w20a_36    target =         324.254 weight =               1\n",
      "w20a_37    target =         340.292 weight =               1\n",
      "w20a_38    target =         352.874 weight =               1\n",
      "w20a_39    target =         361.957 weight =               1\n",
      "w20a_40    target =         367.608 weight =               1\n",
      "w20a_41    target =         369.987 weight =               1\n",
      "w20a_42    target =         369.322 weight =               1\n",
      "w20a_43    target =          365.89 weight =               1\n",
      "w20a_44    target =             360 weight =               1\n",
      "w20a_45    target =         351.976 weight =               1\n",
      "w20a_46    target =         342.143 weight =               1\n",
      "w20a_47    target =         330.822 weight =               1\n",
      "w20a_48    target =         318.314 weight =               1\n",
      "w20a_49    target =         304.903 weight =               1\n",
      "w20a_50    target =         290.845 weight =               1\n",
      "Number of observations is 100\n"
     ]
    }
   ],
   "source": [
    "md = Mads.loadmadsfile(\"w01.mads\") # load Mads input file into Mads Dictionary\n",
    "Mads.allwellsoff!(md) # turn off all wells\n",
    "Mads.wellon!(md, \"w13a\") # use well w13a\n",
    "Mads.wellon!(md, \"w20a\") # use well w20a\n",
    "Mads.showobservations(md) # show all the observations"
   ]
  },
  {
   "cell_type": "code",
   "execution_count": null,
   "metadata": {
    "collapsed": true
   },
   "outputs": [],
   "source": []
  }
 ],
 "metadata": {
  "kernelspec": {
   "display_name": "Julia 0.5.0",
   "language": "julia",
   "name": "julia-0.5"
  },
  "language_info": {
   "file_extension": ".jl",
   "mimetype": "application/julia",
   "name": "julia",
   "version": "0.5.0"
  }
 },
 "nbformat": 4,
 "nbformat_minor": 0
}
